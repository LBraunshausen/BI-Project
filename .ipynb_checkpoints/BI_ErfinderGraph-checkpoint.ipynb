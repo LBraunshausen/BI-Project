{
 "cells": [
  {
   "cell_type": "code",
   "execution_count": 1,
   "id": "7d54c539",
   "metadata": {},
   "outputs": [],
   "source": [
    "import os\n",
    "import pandas as pd\n",
    "from collections import Counter, OrderedDict\n",
    "import networkx as nx\n",
    "import nx_altair as nxa\n",
    "import altair as alt\n",
    "from networkx.drawing.nx_agraph import graphviz_layout\n",
    "import matplotlib.pyplot as plt"
   ]
  },
  {
   "cell_type": "code",
   "execution_count": 2,
   "id": "67eea87e",
   "metadata": {},
   "outputs": [],
   "source": [
    "# load data\n",
    "filepath = os.path.join(os.getcwd(), 'Datensatz_Erfinder_raw.csv')\n",
    "data = pd.read_csv(filepath , sep = \";\", encoding=\"mbcs\")"
   ]
  },
  {
   "cell_type": "code",
   "execution_count": 3,
   "id": "987fb0a3",
   "metadata": {},
   "outputs": [],
   "source": [
    "# count companies patents\n",
    "patent_counter = Counter()\n",
    "for row in data.itertuples():    \n",
    "    row_df = pd.DataFrame(row).transpose().drop(0, axis=1)\n",
    "    row_df.columns = data.columns            \n",
    "    patent_counter[row_df[\"Anmelder/Inhaber\"][0]] += 1\n",
    "    \n",
    "patent_counter = Counter({k: c for k, c in patent_counter.items() if c >= 10})\n",
    "\n",
    "sorted_most_common_companies = sorted(patent_counter, key=patent_counter.get, reverse=True)\n",
    "\n",
    "n_most_common_companies = sorted_most_common_companies\n",
    "n_most_common_companies_df = data[data['Anmelder/Inhaber'].isin(sorted_most_common_companies)]\n",
    "\n"
   ]
  },
  {
   "cell_type": "code",
   "execution_count": 4,
   "id": "530230bd",
   "metadata": {},
   "outputs": [
    {
     "name": "stderr",
     "output_type": "stream",
     "text": [
      "<ipython-input-4-a37d15e478b2>:3: SettingWithCopyWarning: \n",
      "A value is trying to be set on a copy of a slice from a DataFrame.\n",
      "Try using .loc[row_indexer,col_indexer] = value instead\n",
      "\n",
      "See the caveats in the documentation: https://pandas.pydata.org/pandas-docs/stable/user_guide/indexing.html#returning-a-view-versus-a-copy\n",
      "  n_most_common_companies_df['Erfinder'] = n_most_common_companies_df['Erfinder'].fillna(value='no Inventor')\n"
     ]
    }
   ],
   "source": [
    "\n",
    "normalized_data = []\n",
    "# fill patents inventors if they are not filled\n",
    "n_most_common_companies_df['Erfinder'] = n_most_common_companies_df['Erfinder'].fillna(value='no Inventor')\n",
    "# loop over most common companies\n",
    "for row in n_most_common_companies_df.itertuples():\n",
    "    row_df = pd.DataFrame(row).transpose().drop(0, axis=1)\n",
    "    row_df.columns = n_most_common_companies_df.columns\n",
    "    \n",
    "    # get inventors normalized \n",
    "    inventors = row_df[\"Erfinder\"][0].split(';')       \n",
    "    # create new line for every Inventor and applicant\n",
    "    for inventor in inventors:\n",
    "        normalized_row = [row_df[\"Veroeffentlichungs-Nummer\"][0],inventor.strip(), row_df[\"Anmelder/Inhaber\"][0]]\n",
    "        normalized_data.append(normalized_row)\n",
    "\n",
    "# drop duplicates based on inventor and applicant\n",
    "normalized_data_df = pd.DataFrame(normalized_data, columns=[\"Veroeffentlichungs-Nummer\", \"Erfinder\", \"Anmelder/Inhaber\"]) #.drop_duplicates(subset=[\"Erfinder\", \"Anmelder/Inhaber\"])\n",
    "\n",
    "normalized_data_df.to_csv(\"Datensatz_Erfinder_normalisiert.csv\", sep=\";\")"
   ]
  },
  {
   "cell_type": "code",
   "execution_count": 5,
   "id": "d8520c2a",
   "metadata": {},
   "outputs": [],
   "source": [
    "# create graph from edgelist\n",
    "inventor_graph = nx.from_pandas_edgelist(normalized_data_df,\n",
    "source = \"Erfinder\",\n",
    "target = \"Anmelder/Inhaber\")\n",
    "\n"
   ]
  },
  {
   "cell_type": "code",
   "execution_count": 6,
   "id": "1bc7a9a8",
   "metadata": {},
   "outputs": [],
   "source": [
    "# add inventor as node attribute\n",
    "inventor_dict = {tuple[2]: tuple[2] for tuple in normalized_data_df.itertuples()}\n",
    "nx.set_node_attributes(inventor_graph, inventor_dict, \"inventor\")\n",
    "\n",
    "# add company as node attribute\n",
    "company_dict = {tuple[3]: tuple[3] for tuple in normalized_data_df.itertuples()}\n",
    "nx.set_node_attributes(inventor_graph, company_dict, \"company\")\n",
    "\n",
    "degree = nx.degree_centrality(inventor_graph)\n",
    "degree_dict = {key:value*100 + 1 for key,value in degree.items()}\n",
    "nx.set_node_attributes(inventor_graph, degree_dict, \"centrality\")\n",
    "\n"
   ]
  },
  {
   "cell_type": "code",
   "execution_count": 7,
   "id": "7e8150d7",
   "metadata": {},
   "outputs": [],
   "source": [
    "# add amount of patents to inventor / Company nodes will have 'null' values, because companies are not considered\n",
    "patent_amount_counter = {}\n",
    "patent_inventors = pd.DataFrame(normalized_data, columns=[\"Veroeffentlichungs-Nummer\", \"Erfinder\", \"Anmelder/Inhaber\"]).drop_duplicates(subset=[\"Erfinder\", \"Veroeffentlichungs-Nummer\"])\n",
    "\n",
    "for tuple in patent_inventors.itertuples():    \n",
    "    patent_amount_counter[tuple[2]] = patent_amount_counter.get(tuple[2], 0) + 1    \n",
    "nx.set_node_attributes(inventor_graph, patent_amount_counter, \"inventions\")"
   ]
  },
  {
   "cell_type": "code",
   "execution_count": 8,
   "id": "b1809b53",
   "metadata": {},
   "outputs": [],
   "source": [
    "node_types = []\n",
    "for node in inventor_graph.nodes:\n",
    "    if node in normalized_data_df['Erfinder'].values:\n",
    "        node_types.append('Erfinder')\n",
    "    else:\n",
    "        node_types.append('Unternehmen')\n",
    "\n",
    "for i,n in enumerate(inventor_graph.nodes()):\n",
    "    inventor_graph.nodes[n]['type'] = node_types[i]"
   ]
  },
  {
   "cell_type": "code",
   "execution_count": 14,
   "id": "90c67c77",
   "metadata": {},
   "outputs": [
    {
     "ename": "TypeError",
     "evalue": "unsupported operand type(s) for -: 'int' and 'str'",
     "output_type": "error",
     "traceback": [
      "\u001b[1;31m---------------------------------------------------------------------------\u001b[0m",
      "\u001b[1;31mTypeError\u001b[0m                                 Traceback (most recent call last)",
      "\u001b[1;32m<ipython-input-14-1ba21520d713>\u001b[0m in \u001b[0;36m<module>\u001b[1;34m\u001b[0m\n\u001b[0;32m      5\u001b[0m     \u001b[1;31m#cmap='viridis',\u001b[0m\u001b[1;33m\u001b[0m\u001b[1;33m\u001b[0m\u001b[1;33m\u001b[0m\u001b[0m\n\u001b[0;32m      6\u001b[0m     \u001b[0medge_color\u001b[0m\u001b[1;33m=\u001b[0m\u001b[1;34m'black'\u001b[0m\u001b[1;33m,\u001b[0m\u001b[1;33m\u001b[0m\u001b[1;33m\u001b[0m\u001b[0m\n\u001b[1;32m----> 7\u001b[1;33m     \u001b[0mnode_size\u001b[0m\u001b[1;33m=\u001b[0m \u001b[1;36m20\u001b[0m \u001b[1;33m-\u001b[0m \u001b[1;34m'centrality'\u001b[0m\u001b[1;33m,\u001b[0m\u001b[1;33m\u001b[0m\u001b[1;33m\u001b[0m\u001b[0m\n\u001b[0m\u001b[0;32m      8\u001b[0m     \u001b[0mnode_tooltip\u001b[0m \u001b[1;33m=\u001b[0m \u001b[1;33m[\u001b[0m\u001b[1;34m'inventor'\u001b[0m\u001b[1;33m,\u001b[0m \u001b[1;34m'inventions'\u001b[0m\u001b[1;33m,\u001b[0m \u001b[1;34m'company'\u001b[0m\u001b[1;33m]\u001b[0m\u001b[1;33m\u001b[0m\u001b[1;33m\u001b[0m\u001b[0m\n\u001b[0;32m      9\u001b[0m \u001b[1;33m)\u001b[0m\u001b[1;33m.\u001b[0m\u001b[0mproperties\u001b[0m\u001b[1;33m(\u001b[0m\u001b[1;33m\u001b[0m\u001b[1;33m\u001b[0m\u001b[0m\n",
      "\u001b[1;31mTypeError\u001b[0m: unsupported operand type(s) for -: 'int' and 'str'"
     ]
    }
   ],
   "source": [
    "alt.data_transformers.disable_max_rows()\n",
    "chart = nxa.draw_networkx(\n",
    "    inventor_graph,\n",
    "    node_color= 'type',\n",
    "    #cmap='viridis',\n",
    "    edge_color='black',\n",
    "    node_size= 25,\n",
    "    node_tooltip = ['inventor', 'inventions', 'company']\n",
    ").properties(\n",
    "    width=800,\n",
    "    height=800\n",
    ").interactive()\n",
    "chart"
   ]
  },
  {
   "cell_type": "code",
   "execution_count": null,
   "id": "87e7f347",
   "metadata": {},
   "outputs": [],
   "source": []
  }
 ],
 "metadata": {
  "kernelspec": {
   "display_name": "Python 3",
   "language": "python",
   "name": "python3"
  },
  "language_info": {
   "codemirror_mode": {
    "name": "ipython",
    "version": 3
   },
   "file_extension": ".py",
   "mimetype": "text/x-python",
   "name": "python",
   "nbconvert_exporter": "python",
   "pygments_lexer": "ipython3",
   "version": "3.9.4"
  }
 },
 "nbformat": 4,
 "nbformat_minor": 5
}

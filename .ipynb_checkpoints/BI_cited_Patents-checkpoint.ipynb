{
 "cells": [
  {
   "cell_type": "markdown",
   "id": "9953f01b",
   "metadata": {},
   "source": [
    "# Graphanalyse Co-Zitationen\n",
    "\n",
    "Zunächst muss die folgende Zelle zum Laden der Module ausgeführt werden. Danach müssen die weiteren Zellen nach und nach ausgeführt werden."
   ]
  },
  {
   "cell_type": "code",
   "execution_count": 1,
   "id": "cd12b388",
   "metadata": {},
   "outputs": [
    {
     "name": "stderr",
     "output_type": "stream",
     "text": [
      "python: can't open file 'C:\\Users\\Braunshausen\\Python\\BI\\BI-Project\\install': [Errno 2] No such file or directory\n"
     ]
    }
   ],
   "source": [
    "import os\n",
    "import pandas as pd\n",
    "from collections import Counter, OrderedDict\n",
    "import networkx as nx\n",
    "import nx_altair as nxa\n",
    "import altair as alt\n",
    "from networkx.drawing.nx_agraph import graphviz_layout\n",
    "import matplotlib.pyplot as plt\n",
    "from matplotlib import cm\n",
    "from sklearn.metrics.pairwise import cosine_similarity\n",
    "import spacy \n",
    "\n",
    "!pip install \"https://github.com/explosion/spacy-models/releases/download/en_core_web_lg-3.0.0/en_core_web_lg-3.0.0.tar.gz\"\n",
    "\n",
    "low_memory=False"
   ]
  },
  {
   "cell_type": "markdown",
   "id": "80787a4f",
   "metadata": {},
   "source": [
    "# Daten einlesen\n",
    "Der fogende Code liest den Export der PatentsView-Datenbank aus und speichert diese in einem Pandas-Dataframe."
   ]
  },
  {
   "cell_type": "code",
   "execution_count": 5,
   "id": "6949844c",
   "metadata": {},
   "outputs": [
    {
     "name": "stderr",
     "output_type": "stream",
     "text": [
      "D:\\Programme\\Anaconda\\envs\\mining\\lib\\site-packages\\IPython\\core\\interactiveshell.py:3169: DtypeWarning: Columns (7,8,12) have mixed types.Specify dtype option on import or set low_memory=False.\n",
      "  has_raised = await self.run_ast_nodes(code_ast.body, cell_name,\n"
     ]
    }
   ],
   "source": [
    "# load data\n",
    "filepath = os.path.join(os.getcwd(), 'patents_with_title.csv')\n",
    "data = pd.read_csv(filepath , sep = \";\", dtype={'patent_number': str, 'cited_patent_number': str})\n"
   ]
  },
  {
   "cell_type": "markdown",
   "id": "a37dd1ab",
   "metadata": {},
   "source": [
    "# Datenbereinigung\n",
    "In dem Export befinden sich Duplikate, welche aus der Normalisierung der Daten erstanden sind. Diese Duplikate sind z. B. auf die Normalisierung der Erfinder zurückzuführen.\n",
    "Diese Duplikate werden im Folgenden entfernt. Zusätzlich werden fehlende Werte z. B. in der Spalte der Anmelder durch \"0\" ersetzt. Die Fehlenden Werte kommen bei den Anmelder z. B. zustande, wenn es sich um Erfinder handelt, die die Erfindung nicht zusammen mit Unternehmen anmelden."
   ]
  },
  {
   "cell_type": "code",
   "execution_count": 6,
   "id": "b3b3a881",
   "metadata": {},
   "outputs": [],
   "source": [
    "data = data.drop_duplicates(subset=[\"patent_number\",\"cited_patent_number\"])\n",
    "data = data[data['cited_patent_number'].notna()]\n",
    "count = 0\n",
    "data.fillna(\"0\", inplace=True)\n",
    "\n",
    "\n",
    "cited_patents_df = pd.DataFrame(data, columns=[\"patent_number\", \"cited_patent_number\"])"
   ]
  },
  {
   "cell_type": "markdown",
   "id": "05afe705",
   "metadata": {},
   "source": [
    "# Ähnlichkeitsberechnung\n",
    "Im nächsten Schritt wird der Dataframe auf Basis der Patentnummern und der zitierten Patente pivotiert. Hierbei werden NULL-Werte mit 0 ersetzt.\n",
    "Anschließend wird die Ähnlichkeit der Patentvektoren mit der Methode cosine_similarity berechnet und in einen neuen Dataframe geladen, \n",
    "welcher als Zeilen- und Spaltenindex die Patentnummern enthält.\n",
    "Die entstehende Matrix wird als CSV-Datei exportiert"
   ]
  },
  {
   "cell_type": "code",
   "execution_count": 7,
   "id": "339df32d",
   "metadata": {},
   "outputs": [],
   "source": [
    "data[\"count\"] = 1\n",
    "citation_matrix = data.pivot(index=\"patent_number\", columns=\"cited_patent_number\", values=\"count\")\n",
    "citation_matrix.fillna(0, inplace=True)\n",
    "\n",
    "citation_similarity = cosine_similarity(citation_matrix)\n",
    "sim_df = pd.DataFrame(citation_similarity, index=citation_matrix.index, columns=citation_matrix.index)"
   ]
  },
  {
   "cell_type": "markdown",
   "id": "23933131",
   "metadata": {},
   "source": [
    "Als nächstes wird ein threshold festegelegt, welcher die Ergebnisse auf einen Ähnlichkeitswert von über 0,6 beschränkt. Dies dient dazu, um lediglich Patente mit höherer Ähnlichkeit in die Analyse einfließen zu lassen."
   ]
  },
  {
   "cell_type": "code",
   "execution_count": 8,
   "id": "e9c19ef1",
   "metadata": {},
   "outputs": [],
   "source": [
    "citation_similarity = sim_df\n",
    "\n",
    "cited_patents_df.drop_duplicates(\"patent_number\")\n",
    "\n",
    "cited_patent_list = set(cited_patents_df[\"patent_number\"])\n",
    "citation_similarity.index = citation_similarity.index.astype(str)\n",
    "\n",
    "citation_similarity = citation_similarity[citation_similarity.index.isin(cited_patent_list)]\n",
    "citation_similarity = citation_similarity[set(cited_patent_list)]\n",
    "threshold = 0.6\n",
    "\n",
    "citation_similarity_filtered = citation_similarity\n",
    "citation_similarity_filtered.values[citation_similarity_filtered <= threshold] = 0\n",
    "\n",
    "citsim_graph = nx.from_pandas_adjacency(citation_similarity_filtered,  create_using=nx.DiGraph)"
   ]
  },
  {
   "cell_type": "markdown",
   "id": "c5c8eb27",
   "metadata": {},
   "source": [
    "# Vorbereitung der Visualisierung\n",
    "Um den Knoten der Graphen weitere Informationen zu hinterlegen werden Dictionaries mit Informationen über das Anmelderunternehmen, die Patentnummer, die Zentralität und den Patenttitel erstellt. Diese werden dann den Knotenattributen zugeordnet. Außerdem wurde hierbei nur der in der Ausarbeitung dargestellte Graph mit den zehn Patenten berücksichtigt (siehe patents_to_analyze)."
   ]
  },
  {
   "cell_type": "code",
   "execution_count": 15,
   "id": "611a5e3b",
   "metadata": {},
   "outputs": [],
   "source": [
    "patents_to_analyze = ['10360191', '10447770', '10657526', '10505949', '10255108', '10608825', '10764325', '10382388', '10783128', '10790963']\n",
    "patents_to_analyze_df = data[data['patent_number'].isin(patents_to_analyze)].drop_duplicates(subset='patent_number')\n",
    "\n",
    "organization_dict = {}\n",
    "for tuple in data.itertuples():    \n",
    "    if tuple[2] in patents_to_analyze:\n",
    "        if(tuple[9] == \"0\"):\n",
    "            organization_dict[tuple[2]] = tuple[5]\n",
    "        else:\n",
    "            organization_dict[tuple[2]] = tuple[9]\n",
    "nx.set_node_attributes(citsim_graph, organization_dict, \"organization\")\n",
    "\n",
    "patent_id_dict = {tuple[2]:tuple[2] for tuple in data.itertuples()}\n",
    "nx.set_node_attributes(citsim_graph, patent_id_dict, \"patent_id\")\n",
    "\n",
    "degree = nx.degree_centrality(citsim_graph)\n",
    "degree_dict = {key:value*1000 + 3 for key,value in degree.items()}\n",
    "nx.set_node_attributes(citsim_graph, degree_dict, \"centrality\")\n",
    "\n",
    "\n",
    "title_dict = {tuple[2]:tuple[4] for tuple in data.itertuples()}\n",
    "nx.set_node_attributes(citsim_graph, title_dict, \"patent_title\")"
   ]
  },
  {
   "cell_type": "markdown",
   "id": "d46bc083",
   "metadata": {},
   "source": [
    "# Ähnlichkeitsberechung der Patentitel\n",
    "Zur weiteren Analyse wurde eine Ähnlichkeitsberechnung auf Grundlage der Patenttitel durchgeführt. Diese wurde mit der Open-Source-Bibliothek Spacy, wie im Anschluss zu sehen, ermittelt."
   ]
  },
  {
   "cell_type": "code",
   "execution_count": 10,
   "id": "66c33cf1",
   "metadata": {},
   "outputs": [],
   "source": [
    "patent_title_sim_matrix = []\n",
    "nlp = spacy.load(\"en_core_web_lg\")\n",
    "for patent1 in patents_to_analyze_df.itertuples():\n",
    "    doc1 = nlp(patent1[4])    \n",
    "    patent_title_sim_vector = []        \n",
    "    for patent2 in patents_to_analyze_df.itertuples():        \n",
    "        doc2 = nlp(patent2[4])                \n",
    "        patent_similarity = doc1.similarity(doc2)\n",
    "        patent_title_sim_vector.append(patent_similarity)  \n",
    "        \n",
    "    patent_title_sim_matrix.append(patent_title_sim_vector)\n",
    "patent_title_sim_matrix_df = pd.DataFrame(patent_title_sim_matrix, index=patents_to_analyze_df['patent_number'], columns=patents_to_analyze_df['patent_number'])"
   ]
  },
  {
   "cell_type": "markdown",
   "id": "db5ecdd8",
   "metadata": {},
   "source": [
    "Die zuvor berechneten Ähnlichkeiten wurden dann verwendet, um den Kanten des Graphen eine Färbung zu geben. Das entstehende Dictionary wird dann den Kantenattributen hinzugefügt."
   ]
  },
  {
   "cell_type": "code",
   "execution_count": 11,
   "id": "ee5ee813",
   "metadata": {},
   "outputs": [],
   "source": [
    "edge_color_dict = {}\n",
    "i = 0\n",
    "col = 0\n",
    "\n",
    "while i < len(patent_title_sim_matrix_df) - 1:\n",
    "    j = 1 + col    \n",
    "    while j < len(patent_title_sim_matrix_df):\n",
    "        \n",
    "        if (patent_title_sim_matrix_df.index[i], patent_title_sim_matrix_df.index[j]) in citsim_graph.edges:            \n",
    "            if patent_title_sim_matrix_df.iloc[i,j] >= 0.8:\n",
    "                edge_color_dict[(patent_title_sim_matrix_df.index[i], patent_title_sim_matrix_df.index[j])] = '#e0b004'\n",
    "                edge_color_dict[(patent_title_sim_matrix_df.index[j], patent_title_sim_matrix_df.index[i])] = '#e0b004'\n",
    "            elif patent_title_sim_matrix_df.iloc[i,j] >= 0.7:\n",
    "                edge_color_dict[(patent_title_sim_matrix_df.index[i], patent_title_sim_matrix_df.index[j])] = '#d2e004'\n",
    "                edge_color_dict[(patent_title_sim_matrix_df.index[j], patent_title_sim_matrix_df.index[i])] = '#d2e004'\n",
    "            elif patent_title_sim_matrix_df.iloc[i,j] >= 0.6:\n",
    "                edge_color_dict[(patent_title_sim_matrix_df.index[i], patent_title_sim_matrix_df.index[j])] = '#009687'\n",
    "                edge_color_dict[(patent_title_sim_matrix_df.index[j], patent_title_sim_matrix_df.index[i])] = '#009687'\n",
    "            elif patent_title_sim_matrix_df.iloc[i,j] >= 0.5:\n",
    "                edge_color_dict[(patent_title_sim_matrix_df.index[i], patent_title_sim_matrix_df.index[j])] = '#09cf02'\n",
    "                edge_color_dict[(patent_title_sim_matrix_df.index[j], patent_title_sim_matrix_df.index[i])] = '#09cf02'                           \n",
    "        j += 1        \n",
    "    col += 1\n",
    "    i += 1\n",
    "nx.set_edge_attributes(citsim_graph, edge_color_dict, 'edge_colors')"
   ]
  },
  {
   "cell_type": "markdown",
   "id": "940cf39d",
   "metadata": {},
   "source": [
    "# Visualisierung\n",
    "Abschließend wird der Graph mit dem Modul Networkx-Altair visualisiert. Eine interaktive Benutzung ist über das Menü mit den drei Punkten möglich. Dort können zudem weitere Daten, wie die zuvor genannten Knoteninformationen über die Tooltips abgerufen werden. Der analysierte Graph ist an den verschieden eingefärbten Kanten und Knoten zu erkennen."
   ]
  },
  {
   "cell_type": "code",
   "execution_count": null,
   "id": "5ebb0e76",
   "metadata": {},
   "outputs": [],
   "source": [
    "alt.data_transformers.disable_max_rows()\n",
    "chart = nxa.draw_networkx(\n",
    "    citsim_graph,\n",
    "    node_color='organization',\n",
    "    #cmap= 'plasma',\n",
    "    edge_color= 'edge_colors',\n",
    "    node_size='centrality',\n",
    "    node_tooltip = [\"organization\", \"patent_id\", \"patent_title\"],\n",
    "    width = 3\n",
    ").properties(\n",
    "    width=800,\n",
    "    height=800\n",
    ").interactive()\n",
    "chart\n",
    "\n"
   ]
  },
  {
   "cell_type": "markdown",
   "id": "99a6b2cb",
   "metadata": {},
   "source": [
    "In der folgenden Zelle sind nun noch die einzelnen Titelähnlichkeiten zwischen allen Knoten zu sehen. Hierbei ist zu beachten, dass nicht alle Werte berücksichtigt wurden, sondern nur diejenigen, die auch eine Kante im Graphen bilden."
   ]
  },
  {
   "cell_type": "code",
   "execution_count": 10,
   "id": "95c6552e",
   "metadata": {},
   "outputs": [
    {
     "data": {
      "text/html": [
       "<div>\n",
       "<style scoped>\n",
       "    .dataframe tbody tr th:only-of-type {\n",
       "        vertical-align: middle;\n",
       "    }\n",
       "\n",
       "    .dataframe tbody tr th {\n",
       "        vertical-align: top;\n",
       "    }\n",
       "\n",
       "    .dataframe thead th {\n",
       "        text-align: right;\n",
       "    }\n",
       "</style>\n",
       "<table border=\"1\" class=\"dataframe\">\n",
       "  <thead>\n",
       "    <tr style=\"text-align: right;\">\n",
       "      <th>patent_number</th>\n",
       "      <th>10255108</th>\n",
       "      <th>10360191</th>\n",
       "      <th>10382388</th>\n",
       "      <th>10447770</th>\n",
       "      <th>10505949</th>\n",
       "      <th>10608825</th>\n",
       "      <th>10657526</th>\n",
       "      <th>10764325</th>\n",
       "      <th>10783128</th>\n",
       "      <th>10790963</th>\n",
       "    </tr>\n",
       "    <tr>\n",
       "      <th>patent_number</th>\n",
       "      <th></th>\n",
       "      <th></th>\n",
       "      <th></th>\n",
       "      <th></th>\n",
       "      <th></th>\n",
       "      <th></th>\n",
       "      <th></th>\n",
       "      <th></th>\n",
       "      <th></th>\n",
       "      <th></th>\n",
       "    </tr>\n",
       "  </thead>\n",
       "  <tbody>\n",
       "    <tr>\n",
       "      <th>10255108</th>\n",
       "      <td>1.000000</td>\n",
       "      <td>0.662759</td>\n",
       "      <td>0.512098</td>\n",
       "      <td>0.617980</td>\n",
       "      <td>0.598023</td>\n",
       "      <td>0.554452</td>\n",
       "      <td>0.692299</td>\n",
       "      <td>0.713534</td>\n",
       "      <td>0.597446</td>\n",
       "      <td>0.728576</td>\n",
       "    </tr>\n",
       "    <tr>\n",
       "      <th>10360191</th>\n",
       "      <td>0.662759</td>\n",
       "      <td>1.000000</td>\n",
       "      <td>0.770007</td>\n",
       "      <td>0.634692</td>\n",
       "      <td>0.711426</td>\n",
       "      <td>0.643772</td>\n",
       "      <td>0.761132</td>\n",
       "      <td>0.782359</td>\n",
       "      <td>0.674112</td>\n",
       "      <td>0.709557</td>\n",
       "    </tr>\n",
       "    <tr>\n",
       "      <th>10382388</th>\n",
       "      <td>0.512098</td>\n",
       "      <td>0.770007</td>\n",
       "      <td>1.000000</td>\n",
       "      <td>0.441702</td>\n",
       "      <td>0.772037</td>\n",
       "      <td>0.786042</td>\n",
       "      <td>0.804407</td>\n",
       "      <td>0.712205</td>\n",
       "      <td>0.747571</td>\n",
       "      <td>0.549278</td>\n",
       "    </tr>\n",
       "    <tr>\n",
       "      <th>10447770</th>\n",
       "      <td>0.617980</td>\n",
       "      <td>0.634692</td>\n",
       "      <td>0.441702</td>\n",
       "      <td>1.000000</td>\n",
       "      <td>0.576281</td>\n",
       "      <td>0.502570</td>\n",
       "      <td>0.626100</td>\n",
       "      <td>0.617597</td>\n",
       "      <td>0.488098</td>\n",
       "      <td>0.649247</td>\n",
       "    </tr>\n",
       "    <tr>\n",
       "      <th>10505949</th>\n",
       "      <td>0.598023</td>\n",
       "      <td>0.711426</td>\n",
       "      <td>0.772037</td>\n",
       "      <td>0.576281</td>\n",
       "      <td>1.000000</td>\n",
       "      <td>0.691284</td>\n",
       "      <td>0.880854</td>\n",
       "      <td>0.799270</td>\n",
       "      <td>0.781997</td>\n",
       "      <td>0.764233</td>\n",
       "    </tr>\n",
       "    <tr>\n",
       "      <th>10608825</th>\n",
       "      <td>0.554452</td>\n",
       "      <td>0.643772</td>\n",
       "      <td>0.786042</td>\n",
       "      <td>0.502570</td>\n",
       "      <td>0.691284</td>\n",
       "      <td>1.000000</td>\n",
       "      <td>0.719788</td>\n",
       "      <td>0.668454</td>\n",
       "      <td>0.631549</td>\n",
       "      <td>0.508425</td>\n",
       "    </tr>\n",
       "    <tr>\n",
       "      <th>10657526</th>\n",
       "      <td>0.692299</td>\n",
       "      <td>0.761132</td>\n",
       "      <td>0.804407</td>\n",
       "      <td>0.626100</td>\n",
       "      <td>0.880854</td>\n",
       "      <td>0.719788</td>\n",
       "      <td>1.000000</td>\n",
       "      <td>0.812225</td>\n",
       "      <td>0.815907</td>\n",
       "      <td>0.694755</td>\n",
       "    </tr>\n",
       "    <tr>\n",
       "      <th>10764325</th>\n",
       "      <td>0.713534</td>\n",
       "      <td>0.782359</td>\n",
       "      <td>0.712205</td>\n",
       "      <td>0.617597</td>\n",
       "      <td>0.799270</td>\n",
       "      <td>0.668454</td>\n",
       "      <td>0.812225</td>\n",
       "      <td>1.000000</td>\n",
       "      <td>0.688028</td>\n",
       "      <td>0.770061</td>\n",
       "    </tr>\n",
       "    <tr>\n",
       "      <th>10783128</th>\n",
       "      <td>0.597446</td>\n",
       "      <td>0.674112</td>\n",
       "      <td>0.747571</td>\n",
       "      <td>0.488098</td>\n",
       "      <td>0.781997</td>\n",
       "      <td>0.631549</td>\n",
       "      <td>0.815907</td>\n",
       "      <td>0.688028</td>\n",
       "      <td>1.000000</td>\n",
       "      <td>0.633292</td>\n",
       "    </tr>\n",
       "    <tr>\n",
       "      <th>10790963</th>\n",
       "      <td>0.728576</td>\n",
       "      <td>0.709557</td>\n",
       "      <td>0.549278</td>\n",
       "      <td>0.649247</td>\n",
       "      <td>0.764233</td>\n",
       "      <td>0.508425</td>\n",
       "      <td>0.694755</td>\n",
       "      <td>0.770061</td>\n",
       "      <td>0.633292</td>\n",
       "      <td>1.000000</td>\n",
       "    </tr>\n",
       "  </tbody>\n",
       "</table>\n",
       "</div>"
      ],
      "text/plain": [
       "patent_number  10255108  10360191  10382388  10447770  10505949  10608825  \\\n",
       "patent_number                                                               \n",
       "10255108       1.000000  0.662759  0.512098  0.617980  0.598023  0.554452   \n",
       "10360191       0.662759  1.000000  0.770007  0.634692  0.711426  0.643772   \n",
       "10382388       0.512098  0.770007  1.000000  0.441702  0.772037  0.786042   \n",
       "10447770       0.617980  0.634692  0.441702  1.000000  0.576281  0.502570   \n",
       "10505949       0.598023  0.711426  0.772037  0.576281  1.000000  0.691284   \n",
       "10608825       0.554452  0.643772  0.786042  0.502570  0.691284  1.000000   \n",
       "10657526       0.692299  0.761132  0.804407  0.626100  0.880854  0.719788   \n",
       "10764325       0.713534  0.782359  0.712205  0.617597  0.799270  0.668454   \n",
       "10783128       0.597446  0.674112  0.747571  0.488098  0.781997  0.631549   \n",
       "10790963       0.728576  0.709557  0.549278  0.649247  0.764233  0.508425   \n",
       "\n",
       "patent_number  10657526  10764325  10783128  10790963  \n",
       "patent_number                                          \n",
       "10255108       0.692299  0.713534  0.597446  0.728576  \n",
       "10360191       0.761132  0.782359  0.674112  0.709557  \n",
       "10382388       0.804407  0.712205  0.747571  0.549278  \n",
       "10447770       0.626100  0.617597  0.488098  0.649247  \n",
       "10505949       0.880854  0.799270  0.781997  0.764233  \n",
       "10608825       0.719788  0.668454  0.631549  0.508425  \n",
       "10657526       1.000000  0.812225  0.815907  0.694755  \n",
       "10764325       0.812225  1.000000  0.688028  0.770061  \n",
       "10783128       0.815907  0.688028  1.000000  0.633292  \n",
       "10790963       0.694755  0.770061  0.633292  1.000000  "
      ]
     },
     "execution_count": 10,
     "metadata": {},
     "output_type": "execute_result"
    }
   ],
   "source": [
    "patent_title_sim_matrix_df"
   ]
  },
  {
   "cell_type": "code",
   "execution_count": null,
   "id": "9c5c6de7",
   "metadata": {},
   "outputs": [],
   "source": []
  }
 ],
 "metadata": {
  "kernelspec": {
   "display_name": "Python 3",
   "language": "python",
   "name": "python3"
  },
  "language_info": {
   "codemirror_mode": {
    "name": "ipython",
    "version": 3
   },
   "file_extension": ".py",
   "mimetype": "text/x-python",
   "name": "python",
   "nbconvert_exporter": "python",
   "pygments_lexer": "ipython3",
   "version": "3.9.4"
  }
 },
 "nbformat": 4,
 "nbformat_minor": 5
}
